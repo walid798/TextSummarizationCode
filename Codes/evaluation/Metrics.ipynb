{
 "cells": [
  {
   "cell_type": "code",
   "execution_count": null,
   "id": "3798d0a9",
   "metadata": {
    "scrolled": true
   },
   "outputs": [
    {
     "ename": "",
     "evalue": "",
     "output_type": "error",
     "traceback": [
      "\u001b[1;31mFailed to start the Kernel. \n",
      "\u001b[1;31mFileNotFoundError: [Errno 2] No such file or directory: './ZeroShot/Arxiv/Temp_0.9/ArxivTest_gemma-7b-it_prompt#1.json'. \n",
      "\u001b[1;31mView Jupyter <a href='command:jupyter.viewOutput'>log</a> for further details."
     ]
    }
   ],
   "source": [
    "pip install evaluate"
   ]
  },
  {
   "cell_type": "code",
   "execution_count": 3,
   "id": "35df00a6",
   "metadata": {
    "scrolled": true
   },
   "outputs": [
    {
     "name": "stdout",
     "output_type": "stream",
     "text": [
      "Collecting bert_score\n",
      "  Downloading bert_score-0.3.13-py3-none-any.whl.metadata (15 kB)\n",
      "Requirement already satisfied: torch>=1.0.0 in /home/walid/anaconda3/lib/python3.9/site-packages (from bert_score) (2.0.1)\n",
      "Requirement already satisfied: pandas>=1.0.1 in /home/walid/anaconda3/lib/python3.9/site-packages (from bert_score) (1.4.2)\n",
      "Requirement already satisfied: transformers>=3.0.0 in /home/walid/anaconda3/lib/python3.9/site-packages (from bert_score) (4.36.2)\n",
      "Requirement already satisfied: numpy in /home/walid/anaconda3/lib/python3.9/site-packages (from bert_score) (1.24.3)\n",
      "Requirement already satisfied: requests in /home/walid/anaconda3/lib/python3.9/site-packages (from bert_score) (2.27.1)\n",
      "Requirement already satisfied: tqdm>=4.31.1 in /home/walid/anaconda3/lib/python3.9/site-packages (from bert_score) (4.64.0)\n",
      "Requirement already satisfied: matplotlib in /home/walid/anaconda3/lib/python3.9/site-packages (from bert_score) (3.8.1)\n",
      "Requirement already satisfied: packaging>=20.9 in /home/walid/anaconda3/lib/python3.9/site-packages (from bert_score) (21.3)\n",
      "Requirement already satisfied: pyparsing!=3.0.5,>=2.0.2 in /home/walid/anaconda3/lib/python3.9/site-packages (from packaging>=20.9->bert_score) (3.0.4)\n",
      "Requirement already satisfied: python-dateutil>=2.8.1 in /home/walid/anaconda3/lib/python3.9/site-packages (from pandas>=1.0.1->bert_score) (2.8.2)\n",
      "Requirement already satisfied: pytz>=2020.1 in /home/walid/anaconda3/lib/python3.9/site-packages (from pandas>=1.0.1->bert_score) (2021.3)\n",
      "Requirement already satisfied: filelock in /home/walid/anaconda3/lib/python3.9/site-packages (from torch>=1.0.0->bert_score) (3.6.0)\n",
      "Requirement already satisfied: typing-extensions in /home/walid/anaconda3/lib/python3.9/site-packages (from torch>=1.0.0->bert_score) (4.1.1)\n",
      "Requirement already satisfied: sympy in /home/walid/anaconda3/lib/python3.9/site-packages (from torch>=1.0.0->bert_score) (1.10.1)\n",
      "Requirement already satisfied: networkx in /home/walid/anaconda3/lib/python3.9/site-packages (from torch>=1.0.0->bert_score) (2.7.1)\n",
      "Requirement already satisfied: jinja2 in /home/walid/anaconda3/lib/python3.9/site-packages (from torch>=1.0.0->bert_score) (2.11.3)\n",
      "Requirement already satisfied: nvidia-cuda-nvrtc-cu11==11.7.99 in /home/walid/anaconda3/lib/python3.9/site-packages (from torch>=1.0.0->bert_score) (11.7.99)\n",
      "Requirement already satisfied: nvidia-cuda-runtime-cu11==11.7.99 in /home/walid/anaconda3/lib/python3.9/site-packages (from torch>=1.0.0->bert_score) (11.7.99)\n",
      "Requirement already satisfied: nvidia-cuda-cupti-cu11==11.7.101 in /home/walid/anaconda3/lib/python3.9/site-packages (from torch>=1.0.0->bert_score) (11.7.101)\n",
      "Requirement already satisfied: nvidia-cudnn-cu11==8.5.0.96 in /home/walid/anaconda3/lib/python3.9/site-packages (from torch>=1.0.0->bert_score) (8.5.0.96)\n",
      "Requirement already satisfied: nvidia-cublas-cu11==11.10.3.66 in /home/walid/anaconda3/lib/python3.9/site-packages (from torch>=1.0.0->bert_score) (11.10.3.66)\n",
      "Requirement already satisfied: nvidia-cufft-cu11==10.9.0.58 in /home/walid/anaconda3/lib/python3.9/site-packages (from torch>=1.0.0->bert_score) (10.9.0.58)\n",
      "Requirement already satisfied: nvidia-curand-cu11==10.2.10.91 in /home/walid/anaconda3/lib/python3.9/site-packages (from torch>=1.0.0->bert_score) (10.2.10.91)\n",
      "Requirement already satisfied: nvidia-cusolver-cu11==11.4.0.1 in /home/walid/anaconda3/lib/python3.9/site-packages (from torch>=1.0.0->bert_score) (11.4.0.1)\n",
      "Requirement already satisfied: nvidia-cusparse-cu11==11.7.4.91 in /home/walid/anaconda3/lib/python3.9/site-packages (from torch>=1.0.0->bert_score) (11.7.4.91)\n",
      "Requirement already satisfied: nvidia-nccl-cu11==2.14.3 in /home/walid/anaconda3/lib/python3.9/site-packages (from torch>=1.0.0->bert_score) (2.14.3)\n",
      "Requirement already satisfied: nvidia-nvtx-cu11==11.7.91 in /home/walid/anaconda3/lib/python3.9/site-packages (from torch>=1.0.0->bert_score) (11.7.91)\n",
      "Requirement already satisfied: triton==2.0.0 in /home/walid/anaconda3/lib/python3.9/site-packages (from torch>=1.0.0->bert_score) (2.0.0)\n",
      "Requirement already satisfied: setuptools in /home/walid/anaconda3/lib/python3.9/site-packages (from nvidia-cublas-cu11==11.10.3.66->torch>=1.0.0->bert_score) (68.0.0)\n",
      "Requirement already satisfied: wheel in /home/walid/anaconda3/lib/python3.9/site-packages (from nvidia-cublas-cu11==11.10.3.66->torch>=1.0.0->bert_score) (0.40.0)\n",
      "Requirement already satisfied: cmake in /home/walid/anaconda3/lib/python3.9/site-packages (from triton==2.0.0->torch>=1.0.0->bert_score) (3.26.4)\n",
      "Requirement already satisfied: lit in /home/walid/anaconda3/lib/python3.9/site-packages (from triton==2.0.0->torch>=1.0.0->bert_score) (16.0.6)\n",
      "Requirement already satisfied: huggingface-hub<1.0,>=0.19.3 in /home/walid/anaconda3/lib/python3.9/site-packages (from transformers>=3.0.0->bert_score) (0.20.2)\n",
      "Requirement already satisfied: pyyaml>=5.1 in /home/walid/anaconda3/lib/python3.9/site-packages (from transformers>=3.0.0->bert_score) (5.4.1)\n",
      "Requirement already satisfied: regex!=2019.12.17 in /home/walid/anaconda3/lib/python3.9/site-packages (from transformers>=3.0.0->bert_score) (2022.3.15)\n",
      "Requirement already satisfied: tokenizers<0.19,>=0.14 in /home/walid/anaconda3/lib/python3.9/site-packages (from transformers>=3.0.0->bert_score) (0.15.0)\n",
      "Requirement already satisfied: safetensors>=0.3.1 in /home/walid/anaconda3/lib/python3.9/site-packages (from transformers>=3.0.0->bert_score) (0.3.1)\n",
      "Requirement already satisfied: contourpy>=1.0.1 in /home/walid/anaconda3/lib/python3.9/site-packages (from matplotlib->bert_score) (1.2.0)\n",
      "Requirement already satisfied: cycler>=0.10 in /home/walid/anaconda3/lib/python3.9/site-packages (from matplotlib->bert_score) (0.11.0)\n",
      "Requirement already satisfied: fonttools>=4.22.0 in /home/walid/anaconda3/lib/python3.9/site-packages (from matplotlib->bert_score) (4.25.0)\n",
      "Requirement already satisfied: kiwisolver>=1.3.1 in /home/walid/anaconda3/lib/python3.9/site-packages (from matplotlib->bert_score) (1.3.2)\n",
      "Requirement already satisfied: pillow>=8 in /home/walid/anaconda3/lib/python3.9/site-packages (from matplotlib->bert_score) (9.0.1)\n",
      "Requirement already satisfied: importlib-resources>=3.2.0 in /home/walid/anaconda3/lib/python3.9/site-packages (from matplotlib->bert_score) (6.1.1)\n",
      "Requirement already satisfied: urllib3<1.27,>=1.21.1 in /home/walid/anaconda3/lib/python3.9/site-packages (from requests->bert_score) (1.26.9)\n",
      "Requirement already satisfied: certifi>=2017.4.17 in /home/walid/anaconda3/lib/python3.9/site-packages (from requests->bert_score) (2023.5.7)\n",
      "Requirement already satisfied: charset-normalizer~=2.0.0 in /home/walid/anaconda3/lib/python3.9/site-packages (from requests->bert_score) (2.0.4)\n",
      "Requirement already satisfied: idna<4,>=2.5 in /home/walid/anaconda3/lib/python3.9/site-packages (from requests->bert_score) (3.3)\n",
      "Requirement already satisfied: fsspec>=2023.5.0 in /home/walid/anaconda3/lib/python3.9/site-packages (from huggingface-hub<1.0,>=0.19.3->transformers>=3.0.0->bert_score) (2023.12.2)\n",
      "Requirement already satisfied: zipp>=3.1.0 in /home/walid/anaconda3/lib/python3.9/site-packages (from importlib-resources>=3.2.0->matplotlib->bert_score) (3.7.0)\n",
      "Requirement already satisfied: six>=1.5 in /home/walid/anaconda3/lib/python3.9/site-packages (from python-dateutil>=2.8.1->pandas>=1.0.1->bert_score) (1.16.0)\n",
      "Requirement already satisfied: MarkupSafe>=0.23 in /home/walid/anaconda3/lib/python3.9/site-packages (from jinja2->torch>=1.0.0->bert_score) (2.0.1)\n",
      "Requirement already satisfied: mpmath>=0.19 in /home/walid/anaconda3/lib/python3.9/site-packages (from sympy->torch>=1.0.0->bert_score) (1.2.1)\n",
      "Downloading bert_score-0.3.13-py3-none-any.whl (61 kB)\n",
      "\u001b[2K   \u001b[38;2;114;156;31m━━━━━━━━━━━━━━━━━━━━━━━━━━━━━━━━━━━━━━━━\u001b[0m \u001b[32m61.1/61.1 kB\u001b[0m \u001b[31m319.0 kB/s\u001b[0m eta \u001b[36m0:00:00\u001b[0m kB/s\u001b[0m eta \u001b[36m0:00:01\u001b[0m\n",
      "\u001b[?25hInstalling collected packages: bert_score\n",
      "Successfully installed bert_score-0.3.13\n"
     ]
    }
   ],
   "source": [
    "!pip install bert_score"
   ]
  },
  {
   "cell_type": "code",
   "execution_count": 4,
   "id": "4363a3e2",
   "metadata": {},
   "outputs": [],
   "source": [
    "from transformers import logging\n",
    "logging.set_verbosity_error()"
   ]
  },
  {
   "cell_type": "code",
   "execution_count": 5,
   "id": "8a2eb48d",
   "metadata": {},
   "outputs": [
    {
     "name": "stderr",
     "output_type": "stream",
     "text": [
      "<frozen importlib._bootstrap>:228: RuntimeWarning: pyarrow._fs.FileInfo size changed, may indicate binary incompatibility. Expected 64 from C header, got 88 from PyObject\n",
      "<frozen importlib._bootstrap>:228: RuntimeWarning: pyarrow._fs.FileSelector size changed, may indicate binary incompatibility. Expected 48 from C header, got 72 from PyObject\n",
      "2024-04-05 14:31:09.193313: E external/local_xla/xla/stream_executor/cuda/cuda_dnn.cc:9261] Unable to register cuDNN factory: Attempting to register factory for plugin cuDNN when one has already been registered\n",
      "2024-04-05 14:31:09.193375: E external/local_xla/xla/stream_executor/cuda/cuda_fft.cc:607] Unable to register cuFFT factory: Attempting to register factory for plugin cuFFT when one has already been registered\n",
      "2024-04-05 14:31:09.195474: E external/local_xla/xla/stream_executor/cuda/cuda_blas.cc:1515] Unable to register cuBLAS factory: Attempting to register factory for plugin cuBLAS when one has already been registered\n",
      "2024-04-05 14:31:09.205780: I tensorflow/core/platform/cpu_feature_guard.cc:182] This TensorFlow binary is optimized to use available CPU instructions in performance-critical operations.\n",
      "To enable the following instructions: AVX2 FMA, in other operations, rebuild TensorFlow with the appropriate compiler flags.\n",
      "2024-04-05 14:31:11.032821: W tensorflow/compiler/tf2tensorrt/utils/py_utils.cc:38] TF-TRT Warning: Could not find TensorRT\n"
     ]
    }
   ],
   "source": [
    "import os\n",
    "import evaluate"
   ]
  },
  {
   "cell_type": "code",
   "execution_count": 6,
   "id": "4b82cc20",
   "metadata": {},
   "outputs": [
    {
     "data": {
      "application/vnd.jupyter.widget-view+json": {
       "model_id": "facb03889faf4c7b952fb717e345e521",
       "version_major": 2,
       "version_minor": 0
      },
      "text/plain": [
       "Downloading builder script:   0%|          | 0.00/7.95k [00:00<?, ?B/s]"
      ]
     },
     "metadata": {},
     "output_type": "display_data"
    }
   ],
   "source": [
    "bertscore = evaluate.load(\"bertscore\")"
   ]
  },
  {
   "cell_type": "code",
   "execution_count": 32,
   "id": "54165623",
   "metadata": {
    "scrolled": true
   },
   "outputs": [
    {
     "name": "stdout",
     "output_type": "stream",
     "text": [
      "Collecting torchmetrics\n",
      "  Downloading torchmetrics-1.3.2-py3-none-any.whl.metadata (19 kB)\n",
      "Requirement already satisfied: numpy>1.20.0 in /home/walid/anaconda3/lib/python3.9/site-packages (from torchmetrics) (1.24.3)\n",
      "Requirement already satisfied: packaging>17.1 in /home/walid/anaconda3/lib/python3.9/site-packages (from torchmetrics) (21.3)\n",
      "Requirement already satisfied: torch>=1.10.0 in /home/walid/anaconda3/lib/python3.9/site-packages (from torchmetrics) (2.0.1)\n",
      "Collecting lightning-utilities>=0.8.0 (from torchmetrics)\n",
      "  Downloading lightning_utilities-0.11.2-py3-none-any.whl.metadata (4.7 kB)\n",
      "Requirement already satisfied: setuptools in /home/walid/anaconda3/lib/python3.9/site-packages (from lightning-utilities>=0.8.0->torchmetrics) (68.0.0)\n",
      "Requirement already satisfied: typing-extensions in /home/walid/anaconda3/lib/python3.9/site-packages (from lightning-utilities>=0.8.0->torchmetrics) (4.1.1)\n",
      "Requirement already satisfied: pyparsing!=3.0.5,>=2.0.2 in /home/walid/anaconda3/lib/python3.9/site-packages (from packaging>17.1->torchmetrics) (3.0.4)\n",
      "Requirement already satisfied: filelock in /home/walid/anaconda3/lib/python3.9/site-packages (from torch>=1.10.0->torchmetrics) (3.6.0)\n",
      "Requirement already satisfied: sympy in /home/walid/anaconda3/lib/python3.9/site-packages (from torch>=1.10.0->torchmetrics) (1.10.1)\n",
      "Requirement already satisfied: networkx in /home/walid/anaconda3/lib/python3.9/site-packages (from torch>=1.10.0->torchmetrics) (2.7.1)\n",
      "Requirement already satisfied: jinja2 in /home/walid/anaconda3/lib/python3.9/site-packages (from torch>=1.10.0->torchmetrics) (2.11.3)\n",
      "Requirement already satisfied: nvidia-cuda-nvrtc-cu11==11.7.99 in /home/walid/anaconda3/lib/python3.9/site-packages (from torch>=1.10.0->torchmetrics) (11.7.99)\n",
      "Requirement already satisfied: nvidia-cuda-runtime-cu11==11.7.99 in /home/walid/anaconda3/lib/python3.9/site-packages (from torch>=1.10.0->torchmetrics) (11.7.99)\n",
      "Requirement already satisfied: nvidia-cuda-cupti-cu11==11.7.101 in /home/walid/anaconda3/lib/python3.9/site-packages (from torch>=1.10.0->torchmetrics) (11.7.101)\n",
      "Requirement already satisfied: nvidia-cudnn-cu11==8.5.0.96 in /home/walid/anaconda3/lib/python3.9/site-packages (from torch>=1.10.0->torchmetrics) (8.5.0.96)\n",
      "Requirement already satisfied: nvidia-cublas-cu11==11.10.3.66 in /home/walid/anaconda3/lib/python3.9/site-packages (from torch>=1.10.0->torchmetrics) (11.10.3.66)\n",
      "Requirement already satisfied: nvidia-cufft-cu11==10.9.0.58 in /home/walid/anaconda3/lib/python3.9/site-packages (from torch>=1.10.0->torchmetrics) (10.9.0.58)\n",
      "Requirement already satisfied: nvidia-curand-cu11==10.2.10.91 in /home/walid/anaconda3/lib/python3.9/site-packages (from torch>=1.10.0->torchmetrics) (10.2.10.91)\n",
      "Requirement already satisfied: nvidia-cusolver-cu11==11.4.0.1 in /home/walid/anaconda3/lib/python3.9/site-packages (from torch>=1.10.0->torchmetrics) (11.4.0.1)\n",
      "Requirement already satisfied: nvidia-cusparse-cu11==11.7.4.91 in /home/walid/anaconda3/lib/python3.9/site-packages (from torch>=1.10.0->torchmetrics) (11.7.4.91)\n",
      "Requirement already satisfied: nvidia-nccl-cu11==2.14.3 in /home/walid/anaconda3/lib/python3.9/site-packages (from torch>=1.10.0->torchmetrics) (2.14.3)\n",
      "Requirement already satisfied: nvidia-nvtx-cu11==11.7.91 in /home/walid/anaconda3/lib/python3.9/site-packages (from torch>=1.10.0->torchmetrics) (11.7.91)\n",
      "Requirement already satisfied: triton==2.0.0 in /home/walid/anaconda3/lib/python3.9/site-packages (from torch>=1.10.0->torchmetrics) (2.0.0)\n",
      "Requirement already satisfied: wheel in /home/walid/anaconda3/lib/python3.9/site-packages (from nvidia-cublas-cu11==11.10.3.66->torch>=1.10.0->torchmetrics) (0.40.0)\n",
      "Requirement already satisfied: cmake in /home/walid/anaconda3/lib/python3.9/site-packages (from triton==2.0.0->torch>=1.10.0->torchmetrics) (3.26.4)\n",
      "Requirement already satisfied: lit in /home/walid/anaconda3/lib/python3.9/site-packages (from triton==2.0.0->torch>=1.10.0->torchmetrics) (16.0.6)\n",
      "Requirement already satisfied: MarkupSafe>=0.23 in /home/walid/anaconda3/lib/python3.9/site-packages (from jinja2->torch>=1.10.0->torchmetrics) (2.0.1)\n",
      "Requirement already satisfied: mpmath>=0.19 in /home/walid/anaconda3/lib/python3.9/site-packages (from sympy->torch>=1.10.0->torchmetrics) (1.2.1)\n",
      "Downloading torchmetrics-1.3.2-py3-none-any.whl (841 kB)\n",
      "\u001b[2K   \u001b[38;2;114;156;31m━━━━━━━━━━━━━━━━━━━━━━━━━━━━━━━━━━━━━━━━\u001b[0m \u001b[32m841.5/841.5 kB\u001b[0m \u001b[31m2.8 MB/s\u001b[0m eta \u001b[36m0:00:00\u001b[0mm eta \u001b[36m0:00:01\u001b[0m0:01\u001b[0m:01\u001b[0m\n",
      "\u001b[?25hDownloading lightning_utilities-0.11.2-py3-none-any.whl (26 kB)\n",
      "Installing collected packages: lightning-utilities, torchmetrics\n",
      "Successfully installed lightning-utilities-0.11.2 torchmetrics-1.3.2\n"
     ]
    }
   ],
   "source": [
    "!pip install torchmetrics"
   ]
  },
  {
   "cell_type": "markdown",
   "id": "cba76419",
   "metadata": {},
   "source": [
    "# Read data"
   ]
  },
  {
   "cell_type": "code",
   "execution_count": null,
   "id": "0abc8e24",
   "metadata": {},
   "outputs": [],
   "source": [
    "\n",
    "path1 = \"\"\n"
   ]
  },
  {
   "cell_type": "code",
   "execution_count": 200,
   "id": "7fec6448",
   "metadata": {},
   "outputs": [],
   "source": [
    "testDataPath = \"NewsRoomTestAbs.json\""
   ]
  },
  {
   "cell_type": "code",
   "execution_count": null,
   "id": "d756892a",
   "metadata": {},
   "outputs": [],
   "source": [
    "import ast\n",
    "# Read all lines into a list\n",
    "with open(\"ArxivTest.json\") as f:\n",
    "    content = f.readlines()\n",
    "\n",
    "# Convert each list item to a dict\n",
    "content = [ ast.literal_eval( line ) for line in content ]"
   ]
  },
  {
   "cell_type": "code",
   "execution_count": 185,
   "id": "0f0d47d6",
   "metadata": {},
   "outputs": [],
   "source": [
    "# Open the JSON file\n",
    "with open(testDataPath, 'r') as file:\n",
    "    # Load the JSON data\n",
    "    testData = json.load(file)\n",
    "\n",
    "# Print the loaded data\n",
    "#print(data)"
   ]
  },
  {
   "cell_type": "code",
   "execution_count": 182,
   "id": "038ac6be",
   "metadata": {},
   "outputs": [],
   "source": [
    "import json\n",
    "def read_data(p):\n",
    "    articles = []\n",
    "    with open(p, 'r') as file:\n",
    "                #articles = json.load(file)\n",
    "                for line in file:\n",
    "                    try:\n",
    "                        articles.append(json.loads(line))\n",
    "                    except json.JSONDecodeError as e:\n",
    "                        print(f\"Error decoding JSON: {e}\")\n",
    "\n",
    "    return articles"
   ]
  },
  {
   "cell_type": "code",
   "execution_count": 201,
   "id": "2a9bc673",
   "metadata": {},
   "outputs": [],
   "source": [
    "import json\n",
    "import time\n",
    "from datetime import timedelta\n",
    "def load_jsonl(data_path):\n",
    "    news = []\n",
    "    start = time.time()\n",
    "    print(\"Start Loading Data \")\n",
    "    with open(data_path) as f:\n",
    "        for line in f:\n",
    "            news.append(json.loads(line))\n",
    "    data = []\n",
    "    for row in news:\n",
    "        #data.append({\"document\":row['text'] , \"summary\":row['summary']})\n",
    "        data.append(row)\n",
    "    #data = data[0:800]\n",
    "    #print(data[1:10])\n",
    "    print('finished in {}'.format(timedelta(seconds=time.time()-start)))\n",
    "    print(\"# of Documents \",len(data))\n",
    "\n",
    "    return data"
   ]
  },
  {
   "cell_type": "code",
   "execution_count": 202,
   "id": "d6d184fc",
   "metadata": {
    "scrolled": true
   },
   "outputs": [],
   "source": [
    "testData = read_data(testDataPath)"
   ]
  },
  {
   "cell_type": "code",
   "execution_count": 203,
   "id": "9769062d",
   "metadata": {
    "scrolled": true
   },
   "outputs": [
    {
     "data": {
      "text/plain": [
       "{'docID': 0,\n",
       " 'text': 'Men in battle-fatigues have raided the Moscow headquarters of billionaire investor George Soros.\\n\\nYekaterina Geniyeva, president of Soros\\'s Open Society Institute, said the attackers took away all of its documents in the climax to a long-running commercial dispute.\\n\\nShe told a radio station on Friday the men identified themselves as working for the Sektor-1 company, which says it owns the city centre building.\\n\\n\"The most terrifying thing was that they took away all our documents. We do not know where,\" she said, adding the foundation did not recognise Sektor-1\\'s ownership rights.\\n\\nShe said she did not think there was any direct link between the incident and the arrest of oil billionaire Mikhail Khodorkovsky, which some fear may herald a state crackdown on big business.\\n\\nBut she said there might be \"some connection\".\\n\\nGeorge Soros1930 - Born in Hungary 1952- Graduates from London School of Economics1956- Moves to USA 1987 - Sets up Soros Foundation-Soviet Union 1992 - Helps bring down the sterling1997 - Accused of trying to wreck Malaysia\\'s economyGeniyeva said the men broke a pane of glass and ushered out guards and foundation employees in the Thursday night raid. Police did not interfere.\\n\\nGeorge Soros1930 - Born in Hungary 1952- Graduates from London School of Economics1956- Moves to USA 1987 - Sets up Soros Foundation-Soviet Union 1992 - Helps bring down the sterling1997 - Accused of trying to wreck Malaysia\\'s economy\\n\\nKantemir Karamzin, head of Sektor-1, said Soros\\'s foundation had to leave the building as it had failed to pay the rent.\\n\\nA Hungarian-born American, Soros is no stranger to controversy.\\n\\nHe is widely known as the man who broke the British pound in 1992, after helping force sterling out of Europe\\'s exchange rate mechanism.\\n\\nSoros was also reportedly the first American to earn a billion dollars in a single year.\\n\\nHis institute aims to promote a civil society in post-communist Russia, and he has poured millions of dollars into philanthropic works in Eastern Europe.\\n\\nHowever, he has sharply criticised the recent jailing of Yukos chief executive Mikhail Khodorkovsky.\\n\\nHe also warned that Russia \"may now be entering a phase of state capitalism, where all the owners of capital realise that they are dependent on the state\".',\n",
       " 'summary': 'Men in battle-fatigues have&nbsp;raided the Moscow headquarters of billionaire&nbsp;investor George Soros.'}"
      ]
     },
     "execution_count": 203,
     "metadata": {},
     "output_type": "execute_result"
    }
   ],
   "source": [
    "testData[0]"
   ]
  },
  {
   "cell_type": "code",
   "execution_count": 160,
   "id": "286f21d8",
   "metadata": {},
   "outputs": [
    {
     "data": {
      "text/plain": [
       "313"
      ]
     },
     "execution_count": 160,
     "metadata": {},
     "output_type": "execute_result"
    }
   ],
   "source": [
    "len(testData)"
   ]
  },
  {
   "cell_type": "code",
   "execution_count": 12,
   "id": "a24264bd",
   "metadata": {
    "scrolled": true
   },
   "outputs": [
    {
     "name": "stdout",
     "output_type": "stream",
     "text": [
      "Requirement already satisfied: transformers in /home/walid/anaconda3/lib/python3.9/site-packages (4.36.2)\n",
      "Requirement already satisfied: filelock in /home/walid/anaconda3/lib/python3.9/site-packages (from transformers) (3.6.0)\n",
      "Requirement already satisfied: huggingface-hub<1.0,>=0.19.3 in /home/walid/anaconda3/lib/python3.9/site-packages (from transformers) (0.20.2)\n",
      "Requirement already satisfied: numpy>=1.17 in /home/walid/anaconda3/lib/python3.9/site-packages (from transformers) (1.24.3)\n",
      "Requirement already satisfied: packaging>=20.0 in /home/walid/anaconda3/lib/python3.9/site-packages (from transformers) (21.3)\n",
      "Requirement already satisfied: pyyaml>=5.1 in /home/walid/anaconda3/lib/python3.9/site-packages (from transformers) (5.4.1)\n",
      "Requirement already satisfied: regex!=2019.12.17 in /home/walid/anaconda3/lib/python3.9/site-packages (from transformers) (2022.3.15)\n",
      "Requirement already satisfied: requests in /home/walid/anaconda3/lib/python3.9/site-packages (from transformers) (2.27.1)\n",
      "Requirement already satisfied: tokenizers<0.19,>=0.14 in /home/walid/anaconda3/lib/python3.9/site-packages (from transformers) (0.15.0)\n",
      "Requirement already satisfied: safetensors>=0.3.1 in /home/walid/anaconda3/lib/python3.9/site-packages (from transformers) (0.3.1)\n",
      "Requirement already satisfied: tqdm>=4.27 in /home/walid/anaconda3/lib/python3.9/site-packages (from transformers) (4.64.0)\n",
      "Requirement already satisfied: fsspec>=2023.5.0 in /home/walid/anaconda3/lib/python3.9/site-packages (from huggingface-hub<1.0,>=0.19.3->transformers) (2023.12.2)\n",
      "Requirement already satisfied: typing-extensions>=3.7.4.3 in /home/walid/anaconda3/lib/python3.9/site-packages (from huggingface-hub<1.0,>=0.19.3->transformers) (4.1.1)\n",
      "Requirement already satisfied: pyparsing!=3.0.5,>=2.0.2 in /home/walid/anaconda3/lib/python3.9/site-packages (from packaging>=20.0->transformers) (3.0.4)\n",
      "Requirement already satisfied: urllib3<1.27,>=1.21.1 in /home/walid/anaconda3/lib/python3.9/site-packages (from requests->transformers) (1.26.9)\n",
      "Requirement already satisfied: certifi>=2017.4.17 in /home/walid/anaconda3/lib/python3.9/site-packages (from requests->transformers) (2023.5.7)\n",
      "Requirement already satisfied: charset-normalizer~=2.0.0 in /home/walid/anaconda3/lib/python3.9/site-packages (from requests->transformers) (2.0.4)\n",
      "Requirement already satisfied: idna<4,>=2.5 in /home/walid/anaconda3/lib/python3.9/site-packages (from requests->transformers) (3.3)\n",
      "Requirement already satisfied: nltk in /home/walid/anaconda3/lib/python3.9/site-packages (3.7)\n",
      "Requirement already satisfied: click in /home/walid/anaconda3/lib/python3.9/site-packages (from nltk) (8.0.4)\n",
      "Requirement already satisfied: joblib in /home/walid/anaconda3/lib/python3.9/site-packages (from nltk) (1.2.0)\n",
      "Requirement already satisfied: regex>=2021.8.3 in /home/walid/anaconda3/lib/python3.9/site-packages (from nltk) (2022.3.15)\n",
      "Requirement already satisfied: tqdm in /home/walid/anaconda3/lib/python3.9/site-packages (from nltk) (4.64.0)\n",
      "Requirement already satisfied: rouge in /home/walid/anaconda3/lib/python3.9/site-packages (1.0.1)\n",
      "Requirement already satisfied: six in /home/walid/anaconda3/lib/python3.9/site-packages (from rouge) (1.16.0)\n",
      "Requirement already satisfied: bert-score in /home/walid/anaconda3/lib/python3.9/site-packages (0.3.13)\n",
      "Requirement already satisfied: torch>=1.0.0 in /home/walid/anaconda3/lib/python3.9/site-packages (from bert-score) (2.0.1)\n",
      "Requirement already satisfied: pandas>=1.0.1 in /home/walid/anaconda3/lib/python3.9/site-packages (from bert-score) (1.4.2)\n",
      "Requirement already satisfied: transformers>=3.0.0 in /home/walid/anaconda3/lib/python3.9/site-packages (from bert-score) (4.36.2)\n",
      "Requirement already satisfied: numpy in /home/walid/anaconda3/lib/python3.9/site-packages (from bert-score) (1.24.3)\n",
      "Requirement already satisfied: requests in /home/walid/anaconda3/lib/python3.9/site-packages (from bert-score) (2.27.1)\n",
      "Requirement already satisfied: tqdm>=4.31.1 in /home/walid/anaconda3/lib/python3.9/site-packages (from bert-score) (4.64.0)\n",
      "Requirement already satisfied: matplotlib in /home/walid/anaconda3/lib/python3.9/site-packages (from bert-score) (3.8.1)\n",
      "Requirement already satisfied: packaging>=20.9 in /home/walid/anaconda3/lib/python3.9/site-packages (from bert-score) (21.3)\n",
      "Requirement already satisfied: pyparsing!=3.0.5,>=2.0.2 in /home/walid/anaconda3/lib/python3.9/site-packages (from packaging>=20.9->bert-score) (3.0.4)\n",
      "Requirement already satisfied: python-dateutil>=2.8.1 in /home/walid/anaconda3/lib/python3.9/site-packages (from pandas>=1.0.1->bert-score) (2.8.2)\n",
      "Requirement already satisfied: pytz>=2020.1 in /home/walid/anaconda3/lib/python3.9/site-packages (from pandas>=1.0.1->bert-score) (2021.3)\n",
      "Requirement already satisfied: filelock in /home/walid/anaconda3/lib/python3.9/site-packages (from torch>=1.0.0->bert-score) (3.6.0)\n",
      "Requirement already satisfied: typing-extensions in /home/walid/anaconda3/lib/python3.9/site-packages (from torch>=1.0.0->bert-score) (4.1.1)\n",
      "Requirement already satisfied: sympy in /home/walid/anaconda3/lib/python3.9/site-packages (from torch>=1.0.0->bert-score) (1.10.1)\n",
      "Requirement already satisfied: networkx in /home/walid/anaconda3/lib/python3.9/site-packages (from torch>=1.0.0->bert-score) (2.7.1)\n",
      "Requirement already satisfied: jinja2 in /home/walid/anaconda3/lib/python3.9/site-packages (from torch>=1.0.0->bert-score) (2.11.3)\n",
      "Requirement already satisfied: nvidia-cuda-nvrtc-cu11==11.7.99 in /home/walid/anaconda3/lib/python3.9/site-packages (from torch>=1.0.0->bert-score) (11.7.99)\n",
      "Requirement already satisfied: nvidia-cuda-runtime-cu11==11.7.99 in /home/walid/anaconda3/lib/python3.9/site-packages (from torch>=1.0.0->bert-score) (11.7.99)\n",
      "Requirement already satisfied: nvidia-cuda-cupti-cu11==11.7.101 in /home/walid/anaconda3/lib/python3.9/site-packages (from torch>=1.0.0->bert-score) (11.7.101)\n",
      "Requirement already satisfied: nvidia-cudnn-cu11==8.5.0.96 in /home/walid/anaconda3/lib/python3.9/site-packages (from torch>=1.0.0->bert-score) (8.5.0.96)\n",
      "Requirement already satisfied: nvidia-cublas-cu11==11.10.3.66 in /home/walid/anaconda3/lib/python3.9/site-packages (from torch>=1.0.0->bert-score) (11.10.3.66)\n",
      "Requirement already satisfied: nvidia-cufft-cu11==10.9.0.58 in /home/walid/anaconda3/lib/python3.9/site-packages (from torch>=1.0.0->bert-score) (10.9.0.58)\n",
      "Requirement already satisfied: nvidia-curand-cu11==10.2.10.91 in /home/walid/anaconda3/lib/python3.9/site-packages (from torch>=1.0.0->bert-score) (10.2.10.91)\n",
      "Requirement already satisfied: nvidia-cusolver-cu11==11.4.0.1 in /home/walid/anaconda3/lib/python3.9/site-packages (from torch>=1.0.0->bert-score) (11.4.0.1)\n",
      "Requirement already satisfied: nvidia-cusparse-cu11==11.7.4.91 in /home/walid/anaconda3/lib/python3.9/site-packages (from torch>=1.0.0->bert-score) (11.7.4.91)\n",
      "Requirement already satisfied: nvidia-nccl-cu11==2.14.3 in /home/walid/anaconda3/lib/python3.9/site-packages (from torch>=1.0.0->bert-score) (2.14.3)\n",
      "Requirement already satisfied: nvidia-nvtx-cu11==11.7.91 in /home/walid/anaconda3/lib/python3.9/site-packages (from torch>=1.0.0->bert-score) (11.7.91)\n",
      "Requirement already satisfied: triton==2.0.0 in /home/walid/anaconda3/lib/python3.9/site-packages (from torch>=1.0.0->bert-score) (2.0.0)\n",
      "Requirement already satisfied: setuptools in /home/walid/anaconda3/lib/python3.9/site-packages (from nvidia-cublas-cu11==11.10.3.66->torch>=1.0.0->bert-score) (68.0.0)\n",
      "Requirement already satisfied: wheel in /home/walid/anaconda3/lib/python3.9/site-packages (from nvidia-cublas-cu11==11.10.3.66->torch>=1.0.0->bert-score) (0.40.0)\n",
      "Requirement already satisfied: cmake in /home/walid/anaconda3/lib/python3.9/site-packages (from triton==2.0.0->torch>=1.0.0->bert-score) (3.26.4)\n",
      "Requirement already satisfied: lit in /home/walid/anaconda3/lib/python3.9/site-packages (from triton==2.0.0->torch>=1.0.0->bert-score) (16.0.6)\n",
      "Requirement already satisfied: huggingface-hub<1.0,>=0.19.3 in /home/walid/anaconda3/lib/python3.9/site-packages (from transformers>=3.0.0->bert-score) (0.20.2)\n",
      "Requirement already satisfied: pyyaml>=5.1 in /home/walid/anaconda3/lib/python3.9/site-packages (from transformers>=3.0.0->bert-score) (5.4.1)\n",
      "Requirement already satisfied: regex!=2019.12.17 in /home/walid/anaconda3/lib/python3.9/site-packages (from transformers>=3.0.0->bert-score) (2022.3.15)\n",
      "Requirement already satisfied: tokenizers<0.19,>=0.14 in /home/walid/anaconda3/lib/python3.9/site-packages (from transformers>=3.0.0->bert-score) (0.15.0)\n",
      "Requirement already satisfied: safetensors>=0.3.1 in /home/walid/anaconda3/lib/python3.9/site-packages (from transformers>=3.0.0->bert-score) (0.3.1)\n",
      "Requirement already satisfied: contourpy>=1.0.1 in /home/walid/anaconda3/lib/python3.9/site-packages (from matplotlib->bert-score) (1.2.0)\n"
     ]
    },
    {
     "name": "stdout",
     "output_type": "stream",
     "text": [
      "Requirement already satisfied: cycler>=0.10 in /home/walid/anaconda3/lib/python3.9/site-packages (from matplotlib->bert-score) (0.11.0)\n",
      "Requirement already satisfied: fonttools>=4.22.0 in /home/walid/anaconda3/lib/python3.9/site-packages (from matplotlib->bert-score) (4.25.0)\n",
      "Requirement already satisfied: kiwisolver>=1.3.1 in /home/walid/anaconda3/lib/python3.9/site-packages (from matplotlib->bert-score) (1.3.2)\n",
      "Requirement already satisfied: pillow>=8 in /home/walid/anaconda3/lib/python3.9/site-packages (from matplotlib->bert-score) (9.0.1)\n",
      "Requirement already satisfied: importlib-resources>=3.2.0 in /home/walid/anaconda3/lib/python3.9/site-packages (from matplotlib->bert-score) (6.1.1)\n",
      "Requirement already satisfied: urllib3<1.27,>=1.21.1 in /home/walid/anaconda3/lib/python3.9/site-packages (from requests->bert-score) (1.26.9)\n",
      "Requirement already satisfied: certifi>=2017.4.17 in /home/walid/anaconda3/lib/python3.9/site-packages (from requests->bert-score) (2023.5.7)\n",
      "Requirement already satisfied: charset-normalizer~=2.0.0 in /home/walid/anaconda3/lib/python3.9/site-packages (from requests->bert-score) (2.0.4)\n",
      "Requirement already satisfied: idna<4,>=2.5 in /home/walid/anaconda3/lib/python3.9/site-packages (from requests->bert-score) (3.3)\n",
      "Requirement already satisfied: fsspec>=2023.5.0 in /home/walid/anaconda3/lib/python3.9/site-packages (from huggingface-hub<1.0,>=0.19.3->transformers>=3.0.0->bert-score) (2023.12.2)\n",
      "Requirement already satisfied: zipp>=3.1.0 in /home/walid/anaconda3/lib/python3.9/site-packages (from importlib-resources>=3.2.0->matplotlib->bert-score) (3.7.0)\n",
      "Requirement already satisfied: six>=1.5 in /home/walid/anaconda3/lib/python3.9/site-packages (from python-dateutil>=2.8.1->pandas>=1.0.1->bert-score) (1.16.0)\n",
      "Requirement already satisfied: MarkupSafe>=0.23 in /home/walid/anaconda3/lib/python3.9/site-packages (from jinja2->torch>=1.0.0->bert-score) (2.0.1)\n",
      "Requirement already satisfied: mpmath>=0.19 in /home/walid/anaconda3/lib/python3.9/site-packages (from sympy->torch>=1.0.0->bert-score) (1.2.1)\n",
      "Requirement already satisfied: scikit-learn in /home/walid/anaconda3/lib/python3.9/site-packages (1.0.2)\n",
      "Requirement already satisfied: numpy>=1.14.6 in /home/walid/anaconda3/lib/python3.9/site-packages (from scikit-learn) (1.24.3)\n",
      "Requirement already satisfied: scipy>=1.1.0 in /home/walid/anaconda3/lib/python3.9/site-packages (from scikit-learn) (1.10.1)\n",
      "Requirement already satisfied: joblib>=0.11 in /home/walid/anaconda3/lib/python3.9/site-packages (from scikit-learn) (1.2.0)\n",
      "Requirement already satisfied: threadpoolctl>=2.0.0 in /home/walid/anaconda3/lib/python3.9/site-packages (from scikit-learn) (2.2.0)\n",
      "Requirement already satisfied: scipy in /home/walid/anaconda3/lib/python3.9/site-packages (1.10.1)\n",
      "Requirement already satisfied: numpy<1.27.0,>=1.19.5 in /home/walid/anaconda3/lib/python3.9/site-packages (from scipy) (1.24.3)\n",
      "Requirement already satisfied: numpy in /home/walid/anaconda3/lib/python3.9/site-packages (1.24.3)\n"
     ]
    }
   ],
   "source": [
    "# Upload libraries\n",
    "!pip install transformers\n",
    "!pip install nltk\n",
    "!pip install rouge\n",
    "!pip install bert-score\n",
    "!pip install scikit-learn\n",
    "!pip install scipy\n",
    "!pip install numpy"
   ]
  },
  {
   "cell_type": "code",
   "execution_count": 13,
   "id": "c104a0f1",
   "metadata": {
    "scrolled": true
   },
   "outputs": [],
   "source": [
    "# If you use colab, you'll need to \" ! \" for upload \n",
    "from sklearn.feature_extraction.text import TfidfVectorizer\n",
    "from sklearn.metrics.pairwise import cosine_similarity\n",
    "from transformers import BertTokenizer, BertForMaskedLM, BertModel\n",
    "from bert_score import BERTScorer\n",
    "from rouge import Rouge\n",
    "from rouge_score import rouge_scorer"
   ]
  },
  {
   "cell_type": "code",
   "execution_count": null,
   "id": "dbdb00d3",
   "metadata": {},
   "outputs": [],
   "source": []
  },
  {
   "cell_type": "markdown",
   "id": "c1eeb1ca",
   "metadata": {},
   "source": [
    "# Rouge"
   ]
  },
  {
   "cell_type": "markdown",
   "id": "9b5e4169",
   "metadata": {},
   "source": [
    "# ======= Rouge Score ====="
   ]
  },
  {
   "cell_type": "code",
   "execution_count": 106,
   "id": "d0a5746d",
   "metadata": {},
   "outputs": [
    {
     "name": "stderr",
     "output_type": "stream",
     "text": [
      "[nltk_data] Downloading package punkt to /home/walid/nltk_data...\n",
      "[nltk_data]   Package punkt is already up-to-date!\n"
     ]
    }
   ],
   "source": [
    "import nltk\n",
    "nltk.download('punkt')\n",
    "from nltk.tokenize import sent_tokenize"
   ]
  },
  {
   "cell_type": "code",
   "execution_count": null,
   "id": "e6849297",
   "metadata": {},
   "outputs": [],
   "source": [
    "sents = sent_tokenize(item2)\n",
    "if len(sents) > 2:\n",
    "  item3 = sents[0]+\"\"+sents[1]\n",
    "else:\n",
    "   item3 = item2"
   ]
  },
  {
   "cell_type": "code",
   "execution_count": null,
   "id": "b4423846",
   "metadata": {
    "scrolled": true
   },
   "outputs": [],
   "source": [
    "import os\n",
    "import evaluate\n",
    "import json\n",
    "rouge = evaluate.load('rouge')\n",
    "count = 0\n",
    "shot = \"5-shot2\"\n",
    "dataset = \"NewsRoomTestAbs\"\n",
    "outputModelsPath = \"Final_Output/FewShot/NewsRoomAbs/\"+shot\n",
    "paths = [   #\"ArxivTest_FLAN_T5_Large_prompt#\"+str(count),\n",
    "            #dataset+\"_gemma-7b-it_prompt#\"+str(count),\n",
    "            dataset+\"_Llama-2-7b_prompt#\"+str(count), \n",
    "            dataset+\"_Llama-2-13b_prompt#\"+str(count), \n",
    "            dataset+\"_Llama-2-70b_prompt#\"+str(count),\n",
    "            dataset+\"_Mistral-7B-Instruct-v0.1_prompt#\"+str(count),\n",
    "            dataset+\"_Mixtral-8x7B-Instruct-v0.1_prompt#\"+str(count)]\n",
    "\n",
    "res = 0\n",
    "#\"FLAN_T5_Large\",\"gemma-7b-it\",\n",
    "models = [\"Llama-2-7b\",\"Llama-2-13b\",\"Llama-2-70b\",\"Mistral-7B-Instruct-v0.1\",\"Mixtral-8x7B-Instruct-v0.1\"]\n",
    "for path in paths:\n",
    "    outputDataPath1 = os.path.join(outputModelsPath, path + str(\".json\"))\n",
    "\n",
    "    with open(outputDataPath1, encoding='utf-8') as data_file:\n",
    "        outputData1 = json.loads(data_file.read())\n",
    "    ref1 = []\n",
    "    pred1 = []\n",
    "    \n",
    "    for item in outputData1[0:300]:\n",
    "        docID = item['docID']\n",
    "        #nextSum = next(item for item in testData if item[\"docID\"] == docID)\n",
    "        filtered_dicts = [d for d in testData if d.get(\"docID\") == docID]\n",
    "        if len(filtered_dicts) == 1:\n",
    "            summary = filtered_dicts[0]['summary']\n",
    "        #summary = nextSum['summary']\n",
    "        summary =summary.replace(\"\\n\",\"\")\n",
    "        ref1.append(summary)\n",
    "        p = item['generated'].strip().replace(\"\\n\",\"\")\n",
    "        \n",
    "        #p = p[0:120]\n",
    "        #print(item3)\n",
    "        #print(\"=====\")\n",
    "        pred1.append(p)\n",
    "    \n",
    "    result1 = rouge.compute(predictions=pred1, references=ref1)\n",
    "    print(\"Path = \",path)\n",
    "    print(\"Result # \",res,\", Prompt # \",count, \", Model = \",models[res])\n",
    "    print(result1)\n",
    "    \n",
    "    print(\"===========================================================\")\n",
    "    res = res + 1"
   ]
  },
  {
   "cell_type": "code",
   "execution_count": 213,
   "id": "6c3ac12e",
   "metadata": {},
   "outputs": [
    {
     "data": {
      "text/plain": [
       "\"Christie Proposes FedEx-like System to Track Visa Overstays, Differentiates from Trump's Plan.\""
      ]
     },
     "execution_count": 213,
     "metadata": {},
     "output_type": "execute_result"
    }
   ],
   "source": [
    "pred1[200]"
   ]
  },
  {
   "cell_type": "code",
   "execution_count": 214,
   "id": "5668f97d",
   "metadata": {},
   "outputs": [
    {
     "data": {
      "text/plain": [
       "'New Jersey Governor Chris Christie pushed back against \"ridiculous\" criticism of his proposal to track foreign visitors the way FedEx tracks packages.'"
      ]
     },
     "execution_count": 214,
     "metadata": {},
     "output_type": "execute_result"
    }
   ],
   "source": [
    "ref1[200]"
   ]
  },
  {
   "cell_type": "markdown",
   "id": "59683e21",
   "metadata": {},
   "source": [
    "# BERT Score"
   ]
  },
  {
   "cell_type": "code",
   "execution_count": null,
   "id": "d4868371",
   "metadata": {},
   "outputs": [],
   "source": [
    "text1 = \"Stars shine, and the sky is covered with a blue blanket.\"\n",
    "text2 = \"Stars shine, and the sky is adorned with a bright color.\"\n",
    "\n",
    "scorer = BERTScorer(model_type='bert-base-uncased')\n",
    "P, R, F1 = scorer.score([text1], [text2])\n",
    "print(f\"BERTScore Precision: {P.mean():.4f}, Recall: {R.mean():.4f}, F1: {F1.mean():.4f}\")\n"
   ]
  },
  {
   "cell_type": "code",
   "execution_count": null,
   "id": "291f73c7",
   "metadata": {
    "scrolled": false
   },
   "outputs": [],
   "source": [
    "import os\n",
    "from pprint import pprint\n",
    "from torchmetrics.text.bert import BERTScore\n",
    "bertscore = BERTScore()\n",
    "from bert_score import score\n",
    "res = 0\n",
    "count = 3\n",
    "\n",
    "scorer = BERTScorer(model_type='bert-base-uncased')\n",
    "#\"SamsumTest_FLAN_T5_Large_prompt#\"+str(count),\n",
    "shot = \"5-shot\"\n",
    "dataset = \"PubMedTest1\"\n",
    "outputModelsPath = \"Final_Output/ZeroShot/PubMed/prompt#\"+str(count)\n",
    "paths = [   #\"ArxivTest_FLAN_T5_Large_prompt#\"+str(count),\n",
    "            dataset+\"_gemma-7b-it_prompt#\"+str(count),\n",
    "            dataset+\"_Llama-2-7b_prompt#\"+str(count), \n",
    "            dataset+\"_Llama-2-13b_prompt#\"+str(count), \n",
    "            dataset+\"_Llama-2-70b_prompt#\"+str(count),\n",
    "            dataset+\"_Mistral-7B-Instruct-v0.1_prompt#\"+str(count),\n",
    "            dataset+\"_Mixtral-8x7B-Instruct-v0.1_prompt#\"+str(count)]\n",
    "#\"FLAN_T5_Large\",\n",
    "models = [\"gemma-7b-it\",\"Llama-2-7b\",\"Llama-2-13b\",\n",
    "            \"Llama-2-70b\",\"Mistral-7B-Instruct-v0.1\",\"Mixtral-8x7B-Instruct-v0.1\"]\n",
    "for path in paths:\n",
    "    outputDataPath1 = os.path.join(outputModelsPath, path + str(\".json\"))\n",
    "\n",
    "    with open(outputDataPath1, encoding='utf-8') as data_file:\n",
    "        outputData1 = json.loads(data_file.read())\n",
    "    ref1 = []\n",
    "    pred1 = []\n",
    "    \n",
    "    for item in outputData1[0:300]:\n",
    "        docID = item['docID']\n",
    "        \"\"\"summary = next(item for item in testData if item[\"docID\"] == docID)['summary']\n",
    "        summary =summary.replace(\"\\n\",\"\")\"\"\"\n",
    "        filtered_dicts = [d for d in testData if d.get(\"docID\") == docID]\n",
    "        if len(filtered_dicts) == 1:\n",
    "            summary = filtered_dicts[0]['summary']\n",
    "        ref1.append(summary)\n",
    "        p = item['generated'].strip().replace(\"\\n\",\"\")\n",
    "\n",
    "        pred1.append(p)\n",
    "    \n",
    "    result1 = scorer.score(pred1, ref1)\n",
    "    P, R, F1 = score(pred1, ref1, lang='en', verbose=False)\n",
    "\n",
    "    print(\"Path = \",path.strip(),\".json\")\n",
    "    print(\"Result # \",res,\", Prompt # \",count, \", Model = \",models[res])\n",
    "    print(\"Precision = \",P.mean().item(),\" ,Recall = \",R.mean().item(),\" ,F1 Score = \",F1.mean().item())\n",
    "    print(\"===========================================================\")\n",
    "    res = res + 1"
   ]
  },
  {
   "cell_type": "code",
   "execution_count": null,
   "id": "e6cccac6",
   "metadata": {},
   "outputs": [],
   "source": []
  },
  {
   "cell_type": "code",
   "execution_count": null,
   "id": "5c6e5b11",
   "metadata": {},
   "outputs": [],
   "source": []
  },
  {
   "cell_type": "code",
   "execution_count": null,
   "id": "a157733b",
   "metadata": {},
   "outputs": [],
   "source": []
  },
  {
   "cell_type": "code",
   "execution_count": null,
   "id": "4759ced2",
   "metadata": {},
   "outputs": [],
   "source": []
  }
 ],
 "metadata": {
  "kernelspec": {
   "display_name": "base",
   "language": "python",
   "name": "python3"
  },
  "language_info": {
   "codemirror_mode": {
    "name": "ipython",
    "version": 3
   },
   "file_extension": ".py",
   "mimetype": "text/x-python",
   "name": "python",
   "nbconvert_exporter": "python",
   "pygments_lexer": "ipython3",
   "version": "3.8.5"
  }
 },
 "nbformat": 4,
 "nbformat_minor": 5
}
